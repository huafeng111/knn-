{
 "cells": [
  {
   "cell_type": "code",
   "execution_count": 1,
   "id": "7e1e523d",
   "metadata": {},
   "outputs": [],
   "source": [
    "import numpy as np\n",
    "import pandas as pd\n",
    "\n",
    "data = pd.read_csv('https://archive.ics.uci.edu/ml/machine-learning-databases/iris/iris.data', header=None)    # 下载iris数据集\n",
    "#data = pd.read_csv('./data/iris.data.csv', header=None)\n",
    "data.columns = ['sepal length', 'sepal width', 'petal length', 'petal width', 'species']    # 特征及类别名称"
   ]
  },
  {
   "cell_type": "code",
   "execution_count": 2,
   "id": "85fb6241",
   "metadata": {},
   "outputs": [],
   "source": [
    "X = data.iloc[0:150, 0:4].values\n",
    "y = data.iloc[0:150, 4].values\n",
    "y[y == 'Iris-setosa'] = 0                                 # Iris-setosa 输出label用0表示\n",
    "y[y == 'Iris-versicolor'] = 1                             # Iris-versicolor 输出label用1表示\n",
    "y[y == 'Iris-virginica'] = 2                              # Iris-virginica 输出label用2表示\n",
    "X_setosa, y_setosa = X[0:50], y[0:50]                     # Iris-setosa 4个特征\n",
    "X_versicolor, y_versicolor = X[50:100], y[50:100]         # Iris-versicolor 4个特征\n",
    "X_virginica, y_virginica = X[100:150], y[100:150]         # Iris-virginica 4个特征"
   ]
  },
  {
   "cell_type": "code",
   "execution_count": 3,
   "id": "54745afc",
   "metadata": {},
   "outputs": [
    {
     "data": {
      "image/png": "[encoded data removed]",
      "text/plain": [
       "<Figure size 432x288 with 1 Axes>"
      ]
     },
     "metadata": {
      "needs_background": "light"
     },
     "output_type": "display_data"
    }
   ],
   "source": [
    "import matplotlib.pyplot as plt\n",
    "\n",
    "plt.scatter(X_setosa[:, 0], X_setosa[:, 2], color='red', marker='o', label='setosa')\n",
    "plt.scatter(X_versicolor[:, 0], X_versicolor[:, 2], color='blue', marker='^', label='versicolor')\n",
    "plt.scatter(X_virginica[:, 0], X_virginica[:, 2], color='green', marker='s', label='virginica')\n",
    "plt.xlabel('sepal length')\n",
    "plt.ylabel('petal length')\n",
    "plt.legend(loc = 'upper left')\n",
    "plt.show()"
   ]
  },
  {
   "cell_type": "code",
   "execution_count": 4,
   "id": "a1dec2f6",
   "metadata": {},
   "outputs": [],
   "source": [
    "# training set\n",
    "X_setosa_train = X_setosa[:30, :]\n",
    "y_setosa_train = y_setosa[:30]\n",
    "X_versicolor_train = X_versicolor[:30, :]\n",
    "y_versicolor_train = y_versicolor[:30]\n",
    "X_virginica_train = X_virginica[:30, :]\n",
    "y_virginica_train = y_virginica[:30]\n",
    "X_train = np.vstack([X_setosa_train, X_versicolor_train, X_virginica_train])\n",
    "y_train = np.hstack([y_setosa_train, y_versicolor_train, y_virginica_train])\n",
    "\n",
    "# validation set\n",
    "X_setosa_val = X_setosa[30:40, :]\n",
    "y_setosa_val = y_setosa[30:40]\n",
    "X_versicolor_val = X_versicolor[30:40, :]\n",
    "y_versicolor_val = y_versicolor[30:40]\n",
    "X_virginica_val = X_virginica[30:40, :]\n",
    "y_virginica_val = y_virginica[30:40]\n",
    "X_val = np.vstack([X_setosa_val, X_versicolor_val, X_virginica_val])\n",
    "y_val = np.hstack([y_setosa_val, y_versicolor_val, y_virginica_val])\n",
    "\n",
    "# test set\n",
    "X_setosa_test = X_setosa[40:50, :]\n",
    "y_setosa_test = y_setosa[40:50]\n",
    "X_versicolor_test = X_versicolor[40:50, :]\n",
    "y_versicolor_test = y_versicolor[40:50]\n",
    "X_virginica_test = X_virginica[40:50, :]\n",
    "y_virginica_test = y_virginica[40:50]\n",
    "X_test = np.vstack([X_setosa_test, X_versicolor_test, X_virginica_test])\n",
    "y_test = np.hstack([y_setosa_test, y_versicolor_test, y_virginica_test])"
   ]
  },
  {
   "cell_type": "code",
   "execution_count": 67,
   "id": "9d1ae6a2",
   "metadata": {},
   "outputs": [],
   "source": [
    "class KNN(object):\n",
    "   def __init__(self):\n",
    "       pass\n",
    "\n",
    "   # 训练函数\n",
    "   def train(self, X, y):\n",
    "       self.X_train = X\n",
    "       self.y_train = y\n",
    "\n",
    "   # 预测函数\n",
    "   def predict(self, X, k=1):\n",
    "       # 计算L2距离\n",
    "       num_test = X.shape[0]\n",
    "       \n",
    "       num_train = self.X_train.shape[0]\n",
    "  \n",
    "       dists = np.zeros((num_test, num_train))    # 初始化距离函数\n",
    "       # because(X - X_train)*(X - X_train) = -2X*X_train + X*X + X_train*X_train, so\n",
    "       d1 = -2 * np.dot(X, self.X_train.T)    # shape (num_test, num_train)\n",
    "       d2 = np.sum(np.square(X), axis=1, keepdims=True)    # shape (num_test, 1)\n",
    "       d3 = np.sum(np.square(self.X_train), axis=1)    # shape (1, num_train)  \n",
    "       c=d1+d2  \n",
    "       dist = np.sqrt(d1 + d2 + d3)\n",
    "       # 根据K值，选择最可能属于的类别\n",
    "\n",
    "       y_pred = np.zeros(num_test)\n",
    "       for i in range(num_test):\n",
    "           dist_k_min = np.argsort(dist[i])[:k]    # 最近邻k个实例位置\n",
    "           y_kclose = self.y_train[dist_k_min]     # 最近邻k个实例对应的标签\n",
    "           y_pred[i] = np.argmax(np.bincount(y_kclose.tolist()))    # 找出k个标签中从属类别最多的作为预测类别\n",
    "\n",
    "       return y_pred"
   ]
  },
  {
   "cell_type": "code",
   "execution_count": 68,
   "id": "eb84db13",
   "metadata": {},
   "outputs": [
    {
     "name": "stdout",
     "output_type": "stream",
     "text": [
      "测试集预测准确率：1.000000\n"
     ]
    }
   ],
   "source": [
    "KNN=KNN()\n",
    "KNN.train(X_train, y_train)\n",
    "y_pred = KNN.predict(X_test, k=6)\n",
    "accuracy = np.mean(y_pred == y_test)\n",
    "print('测试集预测准确率：%f' % accuracy)"
   ]
  },
  {
   "cell_type": "code",
   "execution_count": 40,
   "id": "2692ca5e",
   "metadata": {},
   "outputs": [
    {
     "data": {
      "image/png": "[encoded data removed]",
      "text/plain": [
       "<Figure size 432x288 with 1 Axes>"
      ]
     },
     "metadata": {
      "needs_background": "light"
     },
     "output_type": "display_data"
    }
   ],
   "source": [
    "# 训练集\n",
    "plt.scatter(X_setosa_train[:, 0], X_setosa_train[:, 2], color='red', marker='o', label='setosa_train')\n",
    "plt.scatter(X_versicolor_train[:, 0], X_versicolor_train[:, 2], color='blue', marker='^', label='versicolor_train')\n",
    "plt.scatter(X_virginica_train[:, 0], X_virginica_train[:, 2], color='green', marker='s', label='virginica_train')\n",
    "# 测试集\n",
    "plt.scatter(X_setosa_test[:, 0], X_setosa_test[:, 2], color='y', marker='o', label='setosa_test')\n",
    "plt.scatter(X_versicolor_test[:, 0], X_versicolor_test[:, 2], color='y', marker='^', label='versicolor_test')\n",
    "plt.scatter(X_virginica_test[:, 0], X_virginica_test[:, 2], color='y', marker='s', label='virginica_test')\n",
    "\n",
    "plt.xlabel('sepal length')\n",
    "plt.ylabel('petal length')\n",
    "plt.legend(loc = 4)\n",
    "plt.show()"
   ]
  },
  {
   "cell_type": "code",
   "execution_count": null,
   "id": "3bc6b163",
   "metadata": {},
   "outputs": [],
   "source": []
  }
 ],
 "metadata": {
  "kernelspec": {
   "display_name": "Python 3 (ipykernel)",
   "language": "python",
   "name": "python3"
  },
  "language_info": {
   "codemirror_mode": {
    "name": "ipython",
    "version": 3
   },
   "file_extension": ".py",
   "mimetype": "text/x-python",
   "name": "python",
   "nbconvert_exporter": "python",
   "pygments_lexer": "ipython3",
   "version": "3.8.0"
  }
 },
 "nbformat": 4,
 "nbformat_minor": 5
}
